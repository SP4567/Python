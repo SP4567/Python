{
  "nbformat": 4,
  "nbformat_minor": 0,
  "metadata": {
    "colab": {
      "provenance": []
    },
    "kernelspec": {
      "name": "python3",
      "display_name": "Python 3"
    },
    "language_info": {
      "name": "python"
    }
  },
  "cells": [
    {
      "cell_type": "markdown",
      "source": [
        "# A simple basic function to print a something on the screen"
      ],
      "metadata": {
        "id": "9TwCB0oW9Ot1"
      }
    },
    {
      "cell_type": "code",
      "execution_count": 8,
      "metadata": {
        "colab": {
          "base_uri": "https://localhost:8080/"
        },
        "id": "e5-b0B6k8j9j",
        "outputId": "ddcb91e8-9892-4f13-e385-eeadaee60fec"
      },
      "outputs": [
        {
          "output_type": "stream",
          "name": "stdout",
          "text": [
            "Hello World\n"
          ]
        }
      ],
      "source": [
        "print(\"Hello World\")"
      ]
    },
    {
      "cell_type": "markdown",
      "source": [
        "# Variables: A named memory location which is used to store a value in it."
      ],
      "metadata": {
        "id": "1Qr47E6_9gxK"
      }
    },
    {
      "cell_type": "code",
      "source": [
        "a = 20\n",
        "print(a)"
      ],
      "metadata": {
        "colab": {
          "base_uri": "https://localhost:8080/"
        },
        "id": "E1UnPILh9GS3",
        "outputId": "46c3761b-4c42-42c5-8a87-e8955618ec95"
      },
      "execution_count": 9,
      "outputs": [
        {
          "output_type": "stream",
          "name": "stdout",
          "text": [
            "20\n"
          ]
        }
      ]
    },
    {
      "cell_type": "code",
      "source": [
        " a = 20\n",
        " b = 30\n",
        " print(a+b)"
      ],
      "metadata": {
        "colab": {
          "base_uri": "https://localhost:8080/"
        },
        "id": "vaQ_La8M908G",
        "outputId": "7586be6c-4ee8-4a9e-b883-0392937bf020"
      },
      "execution_count": 10,
      "outputs": [
        {
          "output_type": "stream",
          "name": "stdout",
          "text": [
            "50\n"
          ]
        }
      ]
    },
    {
      "cell_type": "markdown",
      "source": [
        "#Exercise\n",
        "Take user input and print the following:\n",
        "\n",
        "• We check in a patient named John Smith.\n",
        "\n",
        "• He is 20 years old.\n",
        "\n",
        "• He is a new patient."
      ],
      "metadata": {
        "id": "aOe-4CrF_Fs5"
      }
    },
    {
      "cell_type": "code",
      "source": [
        "name = \"John Smith\"\n",
        "age = 20\n",
        "new_patient = True\n",
        "print(name, \",\", age,\",\", new_patient)"
      ],
      "metadata": {
        "colab": {
          "base_uri": "https://localhost:8080/"
        },
        "id": "k0kN1rEp-XIa",
        "outputId": "cd83eb9d-2d31-4e69-cc75-4e9b51ce86b0"
      },
      "execution_count": 11,
      "outputs": [
        {
          "output_type": "stream",
          "name": "stdout",
          "text": [
            "John Smith , 20 , True\n"
          ]
        }
      ]
    },
    {
      "cell_type": "markdown",
      "source": [
        "# User Prompt in python\n",
        "1.Generic Syntax: variable = input(\"prompt\") [for string data type]\n",
        "\n",
        "2.for other data type: variable= input(data_type(\"prompt\"))"
      ],
      "metadata": {
        "id": "9AbrzHNbBFa-"
      }
    },
    {
      "cell_type": "code",
      "source": [
        "#Another way\n",
        "name = input(\"Enter the name:\")\n",
        "age = int(input(\"Enter the age:\"))\n",
        "new_patient = True\n",
        "print(name, \",\", age,\",\", new_patient)"
      ],
      "metadata": {
        "colab": {
          "base_uri": "https://localhost:8080/"
        },
        "id": "tawUF4SyAbKe",
        "outputId": "853a2a75-d741-473d-8760-2c676d802830"
      },
      "execution_count": 12,
      "outputs": [
        {
          "output_type": "stream",
          "name": "stdout",
          "text": [
            "Enter the name:John Smith\n",
            "Enter the age:22\n",
            "John Smith , 22 , True\n"
          ]
        }
      ]
    },
    {
      "cell_type": "markdown",
      "source": [
        "# Type Conversion\n",
        "Conversion of a data type to another data type"
      ],
      "metadata": {
        "id": "jxr5QWilE9VU"
      }
    },
    {
      "cell_type": "code",
      "source": [
        "birth_year = input(\"Enter your birth year:\")\n",
        "age = 2024-int(birth_year)#without integer it will show error\n",
        "print(age)"
      ],
      "metadata": {
        "colab": {
          "base_uri": "https://localhost:8080/"
        },
        "id": "huAX29g-B8NU",
        "outputId": "8a2176da-fd6a-4f9e-93be-da052fa2cc67"
      },
      "execution_count": 13,
      "outputs": [
        {
          "output_type": "stream",
          "name": "stdout",
          "text": [
            "Enter your birth year:2002\n",
            "22\n"
          ]
        }
      ]
    },
    {
      "cell_type": "code",
      "source": [
        "a = int(input(\"Enter the number: \"))\n",
        "b = int(input(\"Enter the number: \"))\n",
        "sum = a+b\n",
        "print(sum)"
      ],
      "metadata": {
        "colab": {
          "base_uri": "https://localhost:8080/"
        },
        "id": "Dw0fZGvXF3Fj",
        "outputId": "2209c59c-cac6-43cd-87fd-5a7d3e5901b8"
      },
      "execution_count": 14,
      "outputs": [
        {
          "output_type": "stream",
          "name": "stdout",
          "text": [
            "Enter the number: 11\n",
            "Enter the number: 12\n",
            "23\n"
          ]
        }
      ]
    },
    {
      "cell_type": "code",
      "source": [
        "a = int(input(\"Enter the number: \"))\n",
        "b = float(input(\"Enter the number: \"))\n",
        "sum = a+b\n",
        "print(sum)"
      ],
      "metadata": {
        "colab": {
          "base_uri": "https://localhost:8080/"
        },
        "id": "zq_BPq3iXPCT",
        "outputId": "212c672a-0807-499b-9d6b-4c1090361c94"
      },
      "execution_count": 15,
      "outputs": [
        {
          "output_type": "stream",
          "name": "stdout",
          "text": [
            "Enter the number: 11\n",
            "Enter the number: 21\n",
            "32.0\n"
          ]
        }
      ]
    },
    {
      "cell_type": "code",
      "source": [
        "a = int(input(\"Enter the number: \"))\n",
        "b = int(input(\"Enter the number: \"))\n",
        "sum = (float)(a+b)\n",
        "print(sum)"
      ],
      "metadata": {
        "colab": {
          "base_uri": "https://localhost:8080/"
        },
        "id": "0bYR2f3KXTcz",
        "outputId": "25f376a6-c88a-451f-ff43-7652c62cbd69"
      },
      "execution_count": 16,
      "outputs": [
        {
          "output_type": "stream",
          "name": "stdout",
          "text": [
            "Enter the number: 11\n",
            "Enter the number: 21\n",
            "32.0\n"
          ]
        }
      ]
    },
    {
      "cell_type": "code",
      "source": [
        "a = input(\"Enter the number: \")\n",
        "b = input(\"Enter the number: \")\n",
        "sum = a+b\n",
        "print(sum)"
      ],
      "metadata": {
        "colab": {
          "base_uri": "https://localhost:8080/"
        },
        "id": "aIOdkgPaXel4",
        "outputId": "aff272c4-6c66-4cc5-9924-883f7b6dc63b"
      },
      "execution_count": 17,
      "outputs": [
        {
          "output_type": "stream",
          "name": "stdout",
          "text": [
            "Enter the number: 11\n",
            "Enter the number: 11\n",
            "1111\n"
          ]
        }
      ]
    },
    {
      "cell_type": "code",
      "source": [
        "a = int(input(\"Enter the number: \"))\n",
        "b = int(input(\"Enter the number: \"))\n",
        "sum = a+b\n",
        "print(sum)"
      ],
      "metadata": {
        "id": "mcolvy_EX6We",
        "colab": {
          "base_uri": "https://localhost:8080/"
        },
        "outputId": "e279f71d-c0f0-49e7-e3b8-031c58a42bc6"
      },
      "execution_count": 18,
      "outputs": [
        {
          "output_type": "stream",
          "name": "stdout",
          "text": [
            "Enter the number: 11\n",
            "Enter the number: 12\n",
            "23\n"
          ]
        }
      ]
    },
    {
      "cell_type": "code",
      "source": [
        "a = input(\"Enter the number: \")\n",
        "b = input(\"Enter the number: \")\n",
        "sum = (int)(a+b)\n",
        "print(sum)"
      ],
      "metadata": {
        "colab": {
          "base_uri": "https://localhost:8080/"
        },
        "id": "ysFXULQUsEUv",
        "outputId": "96bf4394-cb0b-412b-b6b5-727f056161a9"
      },
      "execution_count": 19,
      "outputs": [
        {
          "output_type": "stream",
          "name": "stdout",
          "text": [
            "Enter the number: 11\n",
            "Enter the number: 12\n",
            "1112\n"
          ]
        }
      ]
    },
    {
      "cell_type": "code",
      "source": [
        "type(sum)"
      ],
      "metadata": {
        "colab": {
          "base_uri": "https://localhost:8080/"
        },
        "id": "mIh_n7tRsX8t",
        "outputId": "6b1aec70-b35e-4d2e-e221-91a5ae05a2a9"
      },
      "execution_count": 20,
      "outputs": [
        {
          "output_type": "execute_result",
          "data": {
            "text/plain": [
              "int"
            ]
          },
          "metadata": {},
          "execution_count": 20
        }
      ]
    },
    {
      "cell_type": "markdown",
      "source": [
        "# String is a data type that is called an array of characters enclosed within double quotes."
      ],
      "metadata": {
        "id": "48ZxwsWRsxgW"
      }
    },
    {
      "cell_type": "code",
      "source": [
        "course = \"Hello How are you?\"\n",
        "course.capitalize()"
      ],
      "metadata": {
        "colab": {
          "base_uri": "https://localhost:8080/",
          "height": 36
        },
        "id": "WYHYCd7wshz1",
        "outputId": "77d997b6-e210-4a35-f467-4fc6737f4092"
      },
      "execution_count": 21,
      "outputs": [
        {
          "output_type": "execute_result",
          "data": {
            "text/plain": [
              "'Hello how are you?'"
            ],
            "application/vnd.google.colaboratory.intrinsic+json": {
              "type": "string"
            }
          },
          "metadata": {},
          "execution_count": 21
        }
      ]
    },
    {
      "cell_type": "code",
      "source": [
        "course.find(\"o\")"
      ],
      "metadata": {
        "colab": {
          "base_uri": "https://localhost:8080/"
        },
        "id": "0kbYfdohs-Ka",
        "outputId": "7618b2c4-1be5-4bde-d16a-cda932bf9234"
      },
      "execution_count": 22,
      "outputs": [
        {
          "output_type": "execute_result",
          "data": {
            "text/plain": [
              "4"
            ]
          },
          "metadata": {},
          "execution_count": 22
        }
      ]
    },
    {
      "cell_type": "code",
      "source": [
        "course.upper()"
      ],
      "metadata": {
        "colab": {
          "base_uri": "https://localhost:8080/",
          "height": 36
        },
        "id": "zla_L_UbtGFK",
        "outputId": "4f61344d-d434-4729-a960-68383ba2cb4c"
      },
      "execution_count": 23,
      "outputs": [
        {
          "output_type": "execute_result",
          "data": {
            "text/plain": [
              "'HELLO HOW ARE YOU?'"
            ],
            "application/vnd.google.colaboratory.intrinsic+json": {
              "type": "string"
            }
          },
          "metadata": {},
          "execution_count": 23
        }
      ]
    },
    {
      "cell_type": "code",
      "source": [
        "course.replace(\"o\",\"a\")"
      ],
      "metadata": {
        "colab": {
          "base_uri": "https://localhost:8080/",
          "height": 36
        },
        "id": "lIGurKetuAg-",
        "outputId": "55b8ab06-f3d8-4ddc-a1e3-2ba306d0fb21"
      },
      "execution_count": 24,
      "outputs": [
        {
          "output_type": "execute_result",
          "data": {
            "text/plain": [
              "'Hella Haw are yau?'"
            ],
            "application/vnd.google.colaboratory.intrinsic+json": {
              "type": "string"
            }
          },
          "metadata": {},
          "execution_count": 24
        }
      ]
    },
    {
      "cell_type": "markdown",
      "source": [
        "# Arithmatic operators"
      ],
      "metadata": {
        "id": "EszXsomMuRI9"
      }
    },
    {
      "cell_type": "code",
      "source": [
        "print(2+3)#Addition\n",
        "print(2-3)#Subtraction\n",
        "print(2*3)#Multiplication\n",
        "print(2/3)#floating point Division\n",
        "print(2//3)#integger value division\n",
        "print(2**3)#power\n",
        "print(2%3)#Modulus gives remainder in normal case but when number 1 < number 2 then number 1 is straight away the answer."
      ],
      "metadata": {
        "colab": {
          "base_uri": "https://localhost:8080/"
        },
        "id": "RXI3q2sduKeV",
        "outputId": "60a45da1-e752-4146-823a-08ae5cd1e33d"
      },
      "execution_count": 25,
      "outputs": [
        {
          "output_type": "stream",
          "name": "stdout",
          "text": [
            "5\n",
            "-1\n",
            "6\n",
            "0.6666666666666666\n",
            "0\n",
            "8\n",
            "2\n"
          ]
        }
      ]
    },
    {
      "cell_type": "markdown",
      "source": [
        "#Logical Operator"
      ],
      "metadata": {
        "id": "9xvH3Hgkv8XD"
      }
    },
    {
      "cell_type": "code",
      "source": [
        "print((2>3)and(3>1))# Logical and operator returns true if both conditions are true.\n",
        "print((2>3)or(3>1))# Logical or operator returns true if either of the conditions are true.\n",
        "print(not(2>3))# Returns the inverted value of the original one"
      ],
      "metadata": {
        "colab": {
          "base_uri": "https://localhost:8080/"
        },
        "id": "fdP6sLXBvV2t",
        "outputId": "eb43e691-804d-452a-c5ee-326634e18ab0"
      },
      "execution_count": 26,
      "outputs": [
        {
          "output_type": "stream",
          "name": "stdout",
          "text": [
            "False\n",
            "True\n",
            "True\n"
          ]
        }
      ]
    },
    {
      "cell_type": "markdown",
      "source": [
        "# Relational Operator"
      ],
      "metadata": {
        "id": "WtriYlcTplA8"
      }
    },
    {
      "cell_type": "code",
      "source": [
        "print(2>3)\n",
        "print(2<3)\n",
        "print(2>=3)\n",
        "print(2<=3)\n",
        "print(2==3)\n",
        "print(2!=3)"
      ],
      "metadata": {
        "id": "E5opetH_wya7",
        "colab": {
          "base_uri": "https://localhost:8080/"
        },
        "outputId": "d82fb141-22f9-40f6-f275-a538ca99c4b6"
      },
      "execution_count": 27,
      "outputs": [
        {
          "output_type": "stream",
          "name": "stdout",
          "text": [
            "False\n",
            "True\n",
            "False\n",
            "True\n",
            "False\n",
            "True\n"
          ]
        }
      ]
    },
    {
      "cell_type": "markdown",
      "source": [
        "# Conditional Statements\n",
        "It simply means they give results as per the condition specified which is connected to the block of code. Based on the condition these statements gives the result.\n",
        "\n",
        "Types:\n",
        "\n",
        "1. if\n",
        "2. if-elif-else [if else if in other language like java,c,c++]\n",
        "3. Nested if [if inside another if condition]\n",
        "4. if-else"
      ],
      "metadata": {
        "id": "6RE3mQPuuVAw"
      }
    },
    {
      "cell_type": "code",
      "source": [
        "if 2>3:\n",
        "  print(\"Hello\")\n",
        "#--------------------------------------\n",
        "if 2<3:\n",
        "  print(\"Hello\")\n",
        "else:\n",
        "  print(\"Bye\")\n",
        "#--------------------------------------\n",
        "number_1 = int(input(\"Enter a number:\"))\n",
        "number_2 = int(input(\"Enter a number:\"))\n",
        "operator = input(\"Enter an operator:\")\n",
        "if operator == \"+\":\n",
        "  print(number_1+number_2)\n",
        "elif operator == \"-\":\n",
        "  print(number_1-number_2)\n",
        "elif operator == \"*\":\n",
        "  print(number_1*number_2)\n",
        "elif operator == \"/\":\n",
        "  print(number_1/number_2)\n",
        "else:\n",
        "  print(\"Invalid operator\")\n",
        "#--------------------------------------\n",
        "if 2<3:\n",
        "  print(\"Hello\")\n",
        "  if 3<4:\n",
        "    print(\"How are you?\")\n",
        "  else:\n",
        "    print(\"Bye\")\n",
        "else:\n",
        "  print(\"Bye\")"
      ],
      "metadata": {
        "colab": {
          "base_uri": "https://localhost:8080/"
        },
        "id": "QWBhs87LrbCq",
        "outputId": "795d251f-06d8-4c61-8e67-cb60223b4bb6"
      },
      "execution_count": 28,
      "outputs": [
        {
          "output_type": "stream",
          "name": "stdout",
          "text": [
            "Hello\n",
            "Enter a number:11\n",
            "Enter a number:12\n",
            "Enter an operator:+\n",
            "23\n",
            "Hello\n",
            "How are you?\n"
          ]
        }
      ]
    },
    {
      "cell_type": "markdown",
      "source": [
        "# Weight kg to lbs convertor or vice versa"
      ],
      "metadata": {
        "id": "i4Xc1CJWBbK1"
      }
    },
    {
      "cell_type": "code",
      "source": [
        "Weight = int(input(\"Weight:\"))\n",
        "value_of_weight = input(\"(K)g or (L)bs:\")\n",
        "if value_of_weight == \"L\" or value_of_weight == \"l\":\n",
        "  print(\"Weight in Kg:\",Weight*0.453592)\n",
        "elif value_of_weight == \"K\" or value_of_weight == \"k\":\n",
        "  print(\"Weight in lbs:\",Weight*2.2046)\n",
        "else:\n",
        "  print(\"Invalid input\")\n"
      ],
      "metadata": {
        "colab": {
          "base_uri": "https://localhost:8080/"
        },
        "id": "GSsm7FZQz__C",
        "outputId": "31effcb2-c739-4c2b-9b36-398ac1139b74"
      },
      "execution_count": 29,
      "outputs": [
        {
          "output_type": "stream",
          "name": "stdout",
          "text": [
            "Weight:69\n",
            "(K)g or (L)bs:K\n",
            "Weight in lbs: 152.1174\n"
          ]
        }
      ]
    },
    {
      "cell_type": "markdown",
      "source": [
        "# Lists\n",
        "These are python Data Structures that are used to store the elements of the same type in a pair of square brackets.\n",
        "\n",
        "Python lists come with a variety of built-in methods that allow you to manipulate and interact with the data they contain. Here’s a comprehensive list of the methods available for Python lists:\n",
        "\n",
        "1. **append(x)**: Adds an item `x` to the end of the list.\n",
        "\n",
        "2. **extend(iterable)**: Extends the list by appending elements from the iterable.\n",
        "\n",
        "3. **insert(i, x)**: Inserts an item `x` at a given position `i`.\n",
        "\n",
        "4. **remove(x)**: Removes the first item from the list whose value is equal to `x`. Raises a ValueError if not found.\n",
        "\n",
        "5. **pop([i])**: Removes and returns the item at the given position `i` in the list. If no index is specified, `pop()` removes and returns the last item in the list.\n",
        "\n",
        "6. **clear()**: Removes all items from the list.\n",
        "\n",
        "7. **index(x[, start[, end]])**: Returns the index of the first item whose value is equal to `x`. Raises a ValueError if not found.\n",
        "\n",
        "8. **count(x)**: Returns the number of times `x` appears in the list.\n",
        "\n",
        "9. **sort(key=None, reverse=False)**: Sorts the items of the list in place (the arguments can be used for sort order).\n",
        "\n",
        "10. **reverse()**: Reverses the elements of the list in place.\n",
        "\n",
        "11. **copy()**: Returns a shallow copy of the list.\n",
        "\n",
        "These methods provide powerful ways to work with lists, allowing for dynamic data manipulation and organization in Python programming."
      ],
      "metadata": {
        "id": "N_7qPC7MFCUB"
      }
    },
    {
      "cell_type": "code",
      "source": [
        "names = [\"John\", \"Bob\", \"Mosh\", \"Sam\", \"Mary\"]\n",
        "print(names)"
      ],
      "metadata": {
        "id": "n9IbcnZR7-bs",
        "colab": {
          "base_uri": "https://localhost:8080/"
        },
        "outputId": "b455b386-0a1e-4b88-ec18-c345bd097935"
      },
      "execution_count": 61,
      "outputs": [
        {
          "output_type": "stream",
          "name": "stdout",
          "text": [
            "['John', 'Bob', 'Mosh', 'Sam', 'Mary']\n"
          ]
        }
      ]
    },
    {
      "cell_type": "code",
      "source": [
        "names[4] = \"Yennefer\"\n",
        "print(names)"
      ],
      "metadata": {
        "colab": {
          "base_uri": "https://localhost:8080/"
        },
        "id": "Ic-h_rcj4Bcp",
        "outputId": "c689a401-f887-4799-9216-77f3fd65b81f"
      },
      "execution_count": 62,
      "outputs": [
        {
          "output_type": "stream",
          "name": "stdout",
          "text": [
            "['John', 'Bob', 'Mosh', 'Sam', 'Yennefer']\n"
          ]
        }
      ]
    },
    {
      "cell_type": "code",
      "source": [
        "names.append(\"Alice\")\n",
        "print(names)"
      ],
      "metadata": {
        "colab": {
          "base_uri": "https://localhost:8080/"
        },
        "id": "lzCajdey5VyW",
        "outputId": "34e033bf-1923-4d53-a2c5-e68cad61c113"
      },
      "execution_count": 63,
      "outputs": [
        {
          "output_type": "stream",
          "name": "stdout",
          "text": [
            "['John', 'Bob', 'Mosh', 'Sam', 'Yennefer', 'Alice']\n"
          ]
        }
      ]
    },
    {
      "cell_type": "code",
      "source": [
        "names.count(\"John\")"
      ],
      "metadata": {
        "colab": {
          "base_uri": "https://localhost:8080/"
        },
        "id": "lnlxZi4k5k7M",
        "outputId": "a3365d69-8ad7-4a8c-f6e5-35a44d4017c3"
      },
      "execution_count": 64,
      "outputs": [
        {
          "output_type": "execute_result",
          "data": {
            "text/plain": [
              "1"
            ]
          },
          "metadata": {},
          "execution_count": 64
        }
      ]
    },
    {
      "cell_type": "code",
      "source": [
        "names.insert(2,\"Angela\")\n",
        "print(names)"
      ],
      "metadata": {
        "colab": {
          "base_uri": "https://localhost:8080/"
        },
        "id": "Kugiu0Md5q5f",
        "outputId": "643e2749-d801-4e65-ff26-f83b356031e3"
      },
      "execution_count": 65,
      "outputs": [
        {
          "output_type": "stream",
          "name": "stdout",
          "text": [
            "['John', 'Bob', 'Angela', 'Mosh', 'Sam', 'Yennefer', 'Alice']\n"
          ]
        }
      ]
    },
    {
      "cell_type": "code",
      "source": [
        "names.remove(\"Angela\")\n",
        "print(names)"
      ],
      "metadata": {
        "colab": {
          "base_uri": "https://localhost:8080/"
        },
        "id": "D3kpcFe05yOT",
        "outputId": "9cb3a114-0385-4977-920b-f4f61fdbaeaf"
      },
      "execution_count": 66,
      "outputs": [
        {
          "output_type": "stream",
          "name": "stdout",
          "text": [
            "['John', 'Bob', 'Mosh', 'Sam', 'Yennefer', 'Alice']\n"
          ]
        }
      ]
    },
    {
      "cell_type": "code",
      "source": [
        "names.extend([\"Alice\",\"Bob\"])\n",
        "print(names)"
      ],
      "metadata": {
        "colab": {
          "base_uri": "https://localhost:8080/"
        },
        "id": "i_wsIgDQ58Hp",
        "outputId": "cd79a590-15ad-4bef-b1dc-7a4acdc7592f"
      },
      "execution_count": 67,
      "outputs": [
        {
          "output_type": "stream",
          "name": "stdout",
          "text": [
            "['John', 'Bob', 'Mosh', 'Sam', 'Yennefer', 'Alice', 'Alice', 'Bob']\n"
          ]
        }
      ]
    },
    {
      "cell_type": "code",
      "source": [
        "names.sort()\n",
        "print(names)"
      ],
      "metadata": {
        "colab": {
          "base_uri": "https://localhost:8080/"
        },
        "id": "vBi-qfNg6Ch9",
        "outputId": "0a73459e-db45-4025-8ef3-1d5d3382ae3e"
      },
      "execution_count": 68,
      "outputs": [
        {
          "output_type": "stream",
          "name": "stdout",
          "text": [
            "['Alice', 'Alice', 'Bob', 'Bob', 'John', 'Mosh', 'Sam', 'Yennefer']\n"
          ]
        }
      ]
    },
    {
      "cell_type": "code",
      "source": [
        "names.pop(1)\n",
        "print(names)"
      ],
      "metadata": {
        "colab": {
          "base_uri": "https://localhost:8080/"
        },
        "id": "urYtCTzT6V1z",
        "outputId": "8f60e65a-d288-4d3f-c2b0-c379652cf990"
      },
      "execution_count": 69,
      "outputs": [
        {
          "output_type": "stream",
          "name": "stdout",
          "text": [
            "['Alice', 'Bob', 'Bob', 'John', 'Mosh', 'Sam', 'Yennefer']\n"
          ]
        }
      ]
    },
    {
      "cell_type": "code",
      "source": [
        "names.copy()\n",
        "print(names)"
      ],
      "metadata": {
        "colab": {
          "base_uri": "https://localhost:8080/"
        },
        "id": "84NacfvE6t2p",
        "outputId": "57defc19-7954-42ac-825d-244450d57334"
      },
      "execution_count": 70,
      "outputs": [
        {
          "output_type": "stream",
          "name": "stdout",
          "text": [
            "['Alice', 'Bob', 'Bob', 'John', 'Mosh', 'Sam', 'Yennefer']\n"
          ]
        }
      ]
    },
    {
      "cell_type": "code",
      "source": [
        "names"
      ],
      "metadata": {
        "colab": {
          "base_uri": "https://localhost:8080/"
        },
        "id": "ucvM1iXp68BH",
        "outputId": "4bb56ada-1372-430d-9020-c62fa687386d"
      },
      "execution_count": 71,
      "outputs": [
        {
          "output_type": "execute_result",
          "data": {
            "text/plain": [
              "['Alice', 'Bob', 'Bob', 'John', 'Mosh', 'Sam', 'Yennefer']"
            ]
          },
          "metadata": {},
          "execution_count": 71
        }
      ]
    },
    {
      "cell_type": "code",
      "source": [
        "names.remove(\"Bob\")\n",
        "print(names)"
      ],
      "metadata": {
        "colab": {
          "base_uri": "https://localhost:8080/"
        },
        "id": "AbEhHrHX6-9m",
        "outputId": "fd449045-a4de-4a1f-f19c-d7f83e7b7302"
      },
      "execution_count": 72,
      "outputs": [
        {
          "output_type": "stream",
          "name": "stdout",
          "text": [
            "['Alice', 'Bob', 'John', 'Mosh', 'Sam', 'Yennefer']\n"
          ]
        }
      ]
    },
    {
      "cell_type": "code",
      "source": [
        "names.clear()\n",
        "print(names)"
      ],
      "metadata": {
        "colab": {
          "base_uri": "https://localhost:8080/"
        },
        "id": "5Jwk-c657G9X",
        "outputId": "6ca9e0e1-da7e-422b-a100-29fffc08f46e"
      },
      "execution_count": 73,
      "outputs": [
        {
          "output_type": "stream",
          "name": "stdout",
          "text": [
            "[]\n"
          ]
        }
      ]
    },
    {
      "cell_type": "code",
      "source": [
        "print(\"Alice\" in names)"
      ],
      "metadata": {
        "colab": {
          "base_uri": "https://localhost:8080/"
        },
        "id": "xSQvz7kZ74Kk",
        "outputId": "dfc457a8-6b10-4c3f-ddfc-098b2eb308f5"
      },
      "execution_count": 75,
      "outputs": [
        {
          "output_type": "stream",
          "name": "stdout",
          "text": [
            "False\n"
          ]
        }
      ]
    },
    {
      "cell_type": "markdown",
      "source": [
        "# Loops\n",
        "\n",
        "In Python, there are primarily two types of loops: **for loops** and **while loops**. Here's a detailed description of each along with their syntax:\n",
        "\n",
        "### 1. For Loop\n",
        "\n",
        "The `for` loop is used to iterate over a sequence (like a list, tuple, dictionary, set, or string).\n",
        "\n",
        "**Syntax:**\n",
        "```python\n",
        "for variable in iterable:\n",
        "    # code block to execute\n",
        "```\n",
        "\n",
        "**Example:**\n",
        "```python\n",
        "fruits = ['apple', 'banana', 'cherry']\n",
        "for fruit in fruits:\n",
        "    print(fruit)\n",
        "```\n",
        "\n",
        "### 2. While Loop\n",
        "\n",
        "The `while` loop repeatedly executes a block of code as long as a specified condition is true.\n",
        "\n",
        "**Syntax:**\n",
        "```python\n",
        "while condition:\n",
        "    # code block to execute\n",
        "```\n",
        "\n",
        "**Example:**\n",
        "```python\n",
        "count = 0\n",
        "while count < 5:\n",
        "    print(count)\n",
        "    count += 1\n",
        "```\n",
        "\n",
        "### 3. Nested Loops\n",
        "\n",
        "Both `for` and `while` loops can be nested inside each other.\n",
        "\n",
        "**Syntax:**\n",
        "```python\n",
        "for variable in iterable:\n",
        "    for inner_variable in inner_iterable:\n",
        "        # code block to execute\n",
        "```\n",
        "\n",
        "**Example:**\n",
        "```python\n",
        "for i in range(3):\n",
        "    for j in range(2):\n",
        "        print(i, j)\n",
        "```\n",
        "\n",
        "### 4. Loop Control Statements\n",
        "\n",
        "Python also provides control statements to alter the flow of loops:\n",
        "\n",
        "- **break**: Exits the loop prematurely.\n",
        "  \n",
        "  **Example:**\n",
        "  ```python\n",
        "  for num in range(10):\n",
        "      if num == 5:\n",
        "          break\n",
        "      print(num)\n",
        "  ```\n",
        "\n",
        "- **continue**: Skips the current iteration and continues with the next one.\n",
        "  \n",
        "  **Example:**\n",
        "  ```python\n",
        "  for num in range(5):\n",
        "      if num == 3:\n",
        "          continue\n",
        "      print(num)\n",
        "  ```\n",
        "\n",
        "- **else**: Can be used with loops to execute a block of code when the loop finishes normally (not terminated by `break`).\n",
        "\n",
        "  **Example:**\n",
        "  ```python\n",
        "  for num in range(5):\n",
        "      print(num)\n",
        "  else:\n",
        "      print(\"Loop completed!\")\n",
        "  ```\n",
        "\n",
        "These loops and control statements provide flexibility for iterating and managing the flow of execution in Python programs."
      ],
      "metadata": {
        "id": "3LixUslc_40Z"
      }
    },
    {
      "cell_type": "code",
      "source": [
        "for i in range(5):\n",
        "  for j in range(i):\n",
        "    print(\"*\", end=\" \")\n",
        "  print()"
      ],
      "metadata": {
        "colab": {
          "base_uri": "https://localhost:8080/"
        },
        "id": "OlBTbFU177EA",
        "outputId": "0ac57146-b16e-4164-b2d7-ecf2e01509a4"
      },
      "execution_count": 78,
      "outputs": [
        {
          "output_type": "stream",
          "name": "stdout",
          "text": [
            "\n",
            "* \n",
            "* * \n",
            "* * * \n",
            "* * * * \n"
          ]
        }
      ]
    },
    {
      "cell_type": "code",
      "source": [
        "for i in range(5):\n",
        "  for j in range(i+1):\n",
        "    print(\"*\", end=\" \")\n",
        "  print()"
      ],
      "metadata": {
        "colab": {
          "base_uri": "https://localhost:8080/"
        },
        "id": "xlVk6CmOAZjq",
        "outputId": "0706a03a-d819-424c-dd09-35ce4b671c2a"
      },
      "execution_count": 79,
      "outputs": [
        {
          "output_type": "stream",
          "name": "stdout",
          "text": [
            "* \n",
            "* * \n",
            "* * * \n",
            "* * * * \n",
            "* * * * * \n"
          ]
        }
      ]
    },
    {
      "cell_type": "code",
      "source": [
        "for i in range(5):\n",
        "  for j in range(5-i):\n",
        "    print(\"*\", end=\" \")\n",
        "  print()"
      ],
      "metadata": {
        "colab": {
          "base_uri": "https://localhost:8080/"
        },
        "id": "k5fvuVEDCDLL",
        "outputId": "eccb3922-888c-4e56-a5d8-e4225724d176"
      },
      "execution_count": 81,
      "outputs": [
        {
          "output_type": "stream",
          "name": "stdout",
          "text": [
            "* * * * * \n",
            "* * * * \n",
            "* * * \n",
            "* * \n",
            "* \n"
          ]
        }
      ]
    },
    {
      "cell_type": "code",
      "source": [
        "for i in range(5):\n",
        "  for j in range(5-i):\n",
        "    print(\" \", end=\" \")\n",
        "  for j in range(i+1):\n",
        "    print(\"*\", end=\" \")\n",
        "  print()"
      ],
      "metadata": {
        "colab": {
          "base_uri": "https://localhost:8080/"
        },
        "id": "Ur4ratjDCJVy",
        "outputId": "bfa27897-a0f7-414e-a909-598cff815551"
      },
      "execution_count": 85,
      "outputs": [
        {
          "output_type": "stream",
          "name": "stdout",
          "text": [
            "          * \n",
            "        * * \n",
            "      * * * \n",
            "    * * * * \n",
            "  * * * * * \n"
          ]
        }
      ]
    },
    {
      "cell_type": "code",
      "source": [
        "for i in range(5):\n",
        "  for j in range(i+1):\n",
        "    print(\" \", end=\" \")\n",
        "  for j in range(5-i):\n",
        "    print(\"*\", end=\" \")\n",
        "  print()"
      ],
      "metadata": {
        "colab": {
          "base_uri": "https://localhost:8080/"
        },
        "id": "fK2bKHuRCL0l",
        "outputId": "1c81df20-1688-4124-dd41-22844b7fbae0"
      },
      "execution_count": 86,
      "outputs": [
        {
          "output_type": "stream",
          "name": "stdout",
          "text": [
            "  * * * * * \n",
            "    * * * * \n",
            "      * * * \n",
            "        * * \n",
            "          * \n"
          ]
        }
      ]
    },
    {
      "cell_type": "code",
      "source": [
        "for i in range(5):\n",
        "  for j in range(i+1):\n",
        "    print(\" \", end=\" \")\n",
        "  for j in range(5-i):\n",
        "    print(\"*\", end=\" \")\n",
        "    for k in range(5-i):\n",
        "      print(\"*\", end=\" \")\n",
        "  print()"
      ],
      "metadata": {
        "colab": {
          "base_uri": "https://localhost:8080/"
        },
        "id": "81JXAjvbDAjg",
        "outputId": "a92a1210-b993-4406-c865-bcdb42385851"
      },
      "execution_count": 88,
      "outputs": [
        {
          "output_type": "stream",
          "name": "stdout",
          "text": [
            "  * * * * * * * * * * * * * * * * * * * * * * * * * * * * * * \n",
            "    * * * * * * * * * * * * * * * * * * * * \n",
            "      * * * * * * * * * * * * \n",
            "        * * * * * * \n",
            "          * * \n"
          ]
        }
      ]
    },
    {
      "cell_type": "markdown",
      "source": [
        "# Function Declaration in python\n",
        "def function_name(parameters):\n",
        "\n",
        "    code block\n",
        "\n",
        "function_name()\n",
        "\n",
        "def is the keyword to declare a function.\n",
        "\n",
        "\n",
        "In Python, functions are reusable blocks of code that perform a specific task. They can take inputs, process them, and return outputs. Here’s a detailed description of functions in Python, including their syntax, types, and key concepts.\n",
        "\n",
        "### 1. Defining a Function\n",
        "\n",
        "You define a function using the `def` keyword, followed by the function name and parentheses containing any parameters.\n",
        "\n",
        "**Syntax:**\n",
        "```python\n",
        "def function_name(parameters):\n",
        "    # code block\n",
        "    return value  # optional\n",
        "```\n",
        "\n",
        "**Example:**\n",
        "```python\n",
        "def greet(name):\n",
        "    return f\"Hello, {name}!\"\n",
        "```\n",
        "\n",
        "### 2. Calling a Function\n",
        "\n",
        "Once a function is defined, you can call it by using its name followed by parentheses.\n",
        "\n",
        "**Example:**\n",
        "```python\n",
        "print(greet(\"Alice\"))  # Output: Hello, Alice!\n",
        "```\n",
        "\n",
        "### 3. Parameters and Arguments\n",
        "\n",
        "- **Parameters**: Variables listed inside the parentheses in the function definition.\n",
        "- **Arguments**: Values you pass to the function when calling it.\n",
        "\n",
        "**Example with parameters:**\n",
        "```python\n",
        "def add(a, b):\n",
        "    return a + b\n",
        "\n",
        "result = add(5, 3)  # Here, 5 and 3 are arguments\n",
        "```\n",
        "\n",
        "### 4. Types of Parameters\n",
        "\n",
        "- **Positional Parameters**: Arguments are assigned to parameters based on their position.\n",
        "\n",
        "- **Keyword Parameters**: Arguments are assigned to parameters by explicitly naming them.\n",
        "\n",
        "  **Example:**\n",
        "  ```python\n",
        "  def person(name, age):\n",
        "      return f\"{name} is {age} years old.\"\n",
        "\n",
        "  print(person(age=30, name=\"Bob\"))  # Output: Bob is 30 years old.\n",
        "  ```\n",
        "\n",
        "- **Default Parameters**: You can provide default values for parameters.\n",
        "\n",
        "  **Example:**\n",
        "  ```python\n",
        "  def greet(name, greeting=\"Hello\"):\n",
        "      return f\"{greeting}, {name}!\"\n",
        "\n",
        "  print(greet(\"Alice\"))          # Output: Hello, Alice!\n",
        "  print(greet(\"Bob\", \"Hi\"))      # Output: Hi, Bob!\n",
        "  ```\n",
        "\n",
        "- **Variable-length Parameters**: Use `*args` for non-keyword variable-length arguments and `**kwargs` for keyword variable-length arguments.\n",
        "\n",
        "  **Example:**\n",
        "  ```python\n",
        "  def add(*args):\n",
        "      return sum(args)\n",
        "\n",
        "  print(add(1, 2, 3))  # Output: 6\n",
        "\n",
        "  def info(**kwargs):\n",
        "      return kwargs\n",
        "\n",
        "  print(info(name=\"Alice\", age=30))  # Output: {'name': 'Alice', 'age': 30}\n",
        "  ```\n",
        "\n",
        "### 5. Return Statement\n",
        "\n",
        "The `return` statement is used to exit a function and optionally pass back a value.\n",
        "\n",
        "**Example:**\n",
        "```python\n",
        "def square(x):\n",
        "    return x * x\n",
        "\n",
        "result = square(4)  # result is 16\n",
        "```\n",
        "\n",
        "### 6. Lambda Functions\n",
        "\n",
        "Lambda functions are anonymous functions defined with the `lambda` keyword. They can take any number of arguments but can only have one expression.\n",
        "\n",
        "**Syntax:**\n",
        "```python\n",
        "lambda arguments: expression\n",
        "```\n",
        "\n",
        "**Example:**\n",
        "```python\n",
        "add = lambda x, y: x + y\n",
        "print(add(2, 3))  # Output: 5\n",
        "```\n",
        "\n",
        "### 7. Scope of Variables\n",
        "\n",
        "Variables defined inside a function are local to that function and cannot be accessed outside of it. Conversely, variables defined outside of any function are global and can be accessed anywhere.\n",
        "\n",
        "**Example:**\n",
        "```python\n",
        "def my_function():\n",
        "    local_var = 5  # Local variable\n",
        "    return local_var\n",
        "\n",
        "print(my_function())  # Output: 5\n",
        "# print(local_var)    # This would raise an error\n",
        "```\n",
        "\n",
        "### 8. Docstrings\n",
        "\n",
        "You can document a function using a docstring, which is a string literal that occurs as the first statement in a function. It describes what the function does.\n",
        "\n",
        "**Example:**\n",
        "```python\n",
        "def multiply(a, b):\n",
        "    \"\"\"Multiply two numbers and return the result.\"\"\"\n",
        "    return a * b\n",
        "\n",
        "print(multiply.__doc__)  # Output: Multiply two numbers and return the result.\n",
        "```\n",
        "\n",
        "### 9. Higher-Order Functions\n",
        "\n",
        "Functions can take other functions as arguments or return them as results.\n",
        "\n",
        "**Example:**\n",
        "```python\n",
        "def apply_function(func, value):\n",
        "    return func(value)\n",
        "\n",
        "print(apply_function(square, 5))  # Output: 25\n",
        "```\n",
        "\n",
        "### Summary\n",
        "\n",
        "Functions in Python are powerful tools for organizing and reusing code. They support various types of parameters, can return values, and enable the creation of complex programs through abstraction and encapsulation. Understanding how to define and use functions effectively is essential for writing clean and efficient Python code."
      ],
      "metadata": {
        "id": "irbGV7eQFIFw"
      }
    },
    {
      "cell_type": "code",
      "source": [
        "def square(x):\n",
        "  return x*x\n",
        "def apply_function(func, value):\n",
        "    return func(value)\n",
        "print(apply_function(square, 5))"
      ],
      "metadata": {
        "colab": {
          "base_uri": "https://localhost:8080/"
        },
        "id": "2ON0djsFFH0J",
        "outputId": "683f35b7-1457-4a9c-b203-c9ce5865c174"
      },
      "execution_count": 90,
      "outputs": [
        {
          "output_type": "stream",
          "name": "stdout",
          "text": [
            "25\n"
          ]
        }
      ]
    },
    {
      "cell_type": "code",
      "source": [
        "def multiply(a, b):\n",
        "    \"\"\"Multiply two numbers and return the result.\"\"\"\n",
        "    return a * b\n",
        "\n",
        "print(multiply.__doc__)  # Output: Multiply two numbers and return the result."
      ],
      "metadata": {
        "colab": {
          "base_uri": "https://localhost:8080/"
        },
        "id": "n-qfEws5LMuh",
        "outputId": "72377e51-f2ac-4d08-ef13-74e122cdddfb"
      },
      "execution_count": 91,
      "outputs": [
        {
          "output_type": "stream",
          "name": "stdout",
          "text": [
            "Multiply two numbers and return the result.\n"
          ]
        }
      ]
    },
    {
      "cell_type": "code",
      "source": [
        "add = lambda x, y: x + y\n",
        "print(add(11,12))"
      ],
      "metadata": {
        "colab": {
          "base_uri": "https://localhost:8080/"
        },
        "id": "Ub0m2o9SLmxr",
        "outputId": "65cb6c79-bb9f-45c4-b85c-409481a10618"
      },
      "execution_count": 94,
      "outputs": [
        {
          "output_type": "stream",
          "name": "stdout",
          "text": [
            "23\n"
          ]
        }
      ]
    },
    {
      "cell_type": "markdown",
      "source": [
        "1. Write a program in python to calculate the factorial of numbers till a particular number."
      ],
      "metadata": {
        "id": "LyLlk647RVc3"
      }
    },
    {
      "cell_type": "code",
      "source": [
        "def factorial():\n",
        "  n = int(input(\"Enter a number:\"))\n",
        "  fact = 1\n",
        "  for i in range(1, n+1):\n",
        "    fact = fact * i\n",
        "    print(fact)\n",
        "factorial()"
      ],
      "metadata": {
        "colab": {
          "base_uri": "https://localhost:8080/"
        },
        "id": "IRUtHeL0QsQf",
        "outputId": "357effe3-a582-4aaf-de03-59ae17d95d8d"
      },
      "execution_count": 96,
      "outputs": [
        {
          "output_type": "stream",
          "name": "stdout",
          "text": [
            "Enter a number:10\n",
            "1\n",
            "2\n",
            "6\n",
            "24\n",
            "120\n",
            "720\n",
            "5040\n",
            "40320\n",
            "362880\n",
            "3628800\n"
          ]
        }
      ]
    },
    {
      "cell_type": "markdown",
      "source": [
        "# Tuples\n",
        "These are python's immutable data structures, which simply means once they are declared they cannot be changed in a program during the execution of the program.\n",
        "\n",
        "In Python, a **tuple** is a built-in data type that is used to store a collection of items. Tuples are similar to lists, but they have some key differences:\n",
        "\n",
        "### Characteristics of Tuples\n",
        "\n",
        "1. **Immutable**: Once a tuple is created, its elements cannot be changed, added, or removed. This immutability makes tuples suitable for storing fixed collections of items.\n",
        "\n",
        "2. **Ordered**: Tuples maintain the order of elements. The items in a tuple can be accessed using their index.\n",
        "\n",
        "3. **Heterogeneous**: Tuples can hold items of different data types, including integers, strings, lists, and even other tuples.\n",
        "\n",
        "4. **Can Contain Duplicates**: Tuples can have duplicate values.\n",
        "\n",
        "### Creating a Tuple\n",
        "\n",
        "You can create a tuple by placing a comma-separated sequence of values inside parentheses `()`.\n",
        "\n",
        "**Syntax:**\n",
        "```python\n",
        "tuple_name = (item1, item2, item3)\n",
        "```\n",
        "\n",
        "**Example:**\n",
        "```python\n",
        "my_tuple = (1, 2, 3, \"apple\", \"banana\")\n",
        "```\n",
        "\n",
        "### Accessing Tuple Elements\n",
        "\n",
        "You can access tuple elements using indexing, where the index starts at 0.\n",
        "\n",
        "**Example:**\n",
        "```python\n",
        "print(my_tuple[0])  # Output: 1\n",
        "print(my_tuple[3])  # Output: apple\n",
        "```\n",
        "\n",
        "### Slicing Tuples\n",
        "\n",
        "You can slice tuples to get a subset of elements.\n",
        "\n",
        "**Example:**\n",
        "```python\n",
        "print(my_tuple[1:4])  # Output: (2, 3, 'apple')\n",
        "```\n",
        "\n",
        "### Tuple Methods\n",
        "\n",
        "Tuples have a few built-in methods:\n",
        "\n",
        "1. **count(value)**: Returns the number of times a specified value appears in the tuple.\n",
        "\n",
        "   **Example:**\n",
        "   ```python\n",
        "   my_tuple = (1, 2, 2, 3)\n",
        "   print(my_tuple.count(2))  # Output: 2\n",
        "   ```\n",
        "\n",
        "2. **index(value)**: Returns the index of the first occurrence of a specified value. Raises a ValueError if the value is not found.\n",
        "\n",
        "   **Example:**\n",
        "   ```python\n",
        "   print(my_tuple.index(2))  # Output: 1\n",
        "   ```\n",
        "\n",
        "### Tuple Packing and Unpacking\n",
        "\n",
        "- **Packing**: Creating a tuple by assigning multiple values to a single variable.\n",
        "\n",
        "  **Example:**\n",
        "  ```python\n",
        "  packed_tuple = 1, 2, 3  # Tuple packing\n",
        "  ```\n",
        "\n",
        "- **Unpacking**: Assigning the elements of a tuple to multiple variables.\n",
        "\n",
        "  **Example:**\n",
        "  ```python\n",
        "  a, b, c = packed_tuple\n",
        "  print(a, b, c)  # Output: 1 2 3\n",
        "  ```\n",
        "\n",
        "### Nested Tuples\n",
        "\n",
        "Tuples can contain other tuples as elements.\n",
        "\n",
        "**Example:**\n",
        "```python\n",
        "nested_tuple = (1, (2, 3), 4)\n",
        "print(nested_tuple[1])  # Output: (2, 3)\n",
        "```\n",
        "\n",
        "### Advantages of Using Tuples\n",
        "\n",
        "1. **Performance**: Tuples are generally faster than lists for iteration due to their immutability.\n",
        "2. **Data Integrity**: The immutability of tuples makes them a good choice for fixed data that should not change.\n",
        "3. **Hashable**: Tuples can be used as keys in dictionaries, while lists cannot.\n",
        "\n",
        "### Conclusion\n",
        "\n",
        "Tuples are a versatile and efficient way to store collections of items in Python. Their immutability, ordering, and ability to hold heterogeneous data make them suitable for various programming scenarios. Understanding how to create and manipulate tuples is essential for effective Python programming."
      ],
      "metadata": {
        "id": "mG3fVYN3O7Hr"
      }
    },
    {
      "cell_type": "code",
      "source": [
        "t1 = ('1','2','3','4','5')\n",
        "print(t1)"
      ],
      "metadata": {
        "colab": {
          "base_uri": "https://localhost:8080/"
        },
        "id": "lLTGY9IlO6xD",
        "outputId": "758cf57f-c35d-4f3e-efa0-cf3483d00f19"
      },
      "execution_count": 97,
      "outputs": [
        {
          "output_type": "stream",
          "name": "stdout",
          "text": [
            "('1', '2', '3', '4', '5')\n"
          ]
        }
      ]
    },
    {
      "cell_type": "code",
      "source": [
        "t1.count('1')"
      ],
      "metadata": {
        "colab": {
          "base_uri": "https://localhost:8080/"
        },
        "id": "RObUHDq_L-ta",
        "outputId": "861030a8-e8ea-47fc-839c-7777f3a3415f"
      },
      "execution_count": 98,
      "outputs": [
        {
          "output_type": "execute_result",
          "data": {
            "text/plain": [
              "1"
            ]
          },
          "metadata": {},
          "execution_count": 98
        }
      ]
    },
    {
      "cell_type": "code",
      "source": [
        "t1.index('1')"
      ],
      "metadata": {
        "colab": {
          "base_uri": "https://localhost:8080/"
        },
        "id": "olcTxcGnUCQC",
        "outputId": "d319d7d4-7761-48f9-d29c-49b06ed1e81a"
      },
      "execution_count": 99,
      "outputs": [
        {
          "output_type": "execute_result",
          "data": {
            "text/plain": [
              "0"
            ]
          },
          "metadata": {},
          "execution_count": 99
        }
      ]
    },
    {
      "cell_type": "code",
      "source": [
        "t1[1:3]"
      ],
      "metadata": {
        "colab": {
          "base_uri": "https://localhost:8080/"
        },
        "id": "e0bPuR2fUFyu",
        "outputId": "7e22f968-be2a-46af-bbfe-b5c1e37401a7"
      },
      "execution_count": 102,
      "outputs": [
        {
          "output_type": "execute_result",
          "data": {
            "text/plain": [
              "('2', '3')"
            ]
          },
          "metadata": {},
          "execution_count": 102
        }
      ]
    },
    {
      "cell_type": "code",
      "source": [
        "t2 = ('1', '2', '3', '4', 'hello', 'aur kya haal chaal')\n",
        "print(t2.count('hello'))\n",
        "print(t2.index('aur kya haal chaal'))"
      ],
      "metadata": {
        "colab": {
          "base_uri": "https://localhost:8080/"
        },
        "id": "lqSGuFtbUNIx",
        "outputId": "f01b4d46-cfa4-420f-dd64-212cd7a19fa2"
      },
      "execution_count": 104,
      "outputs": [
        {
          "output_type": "stream",
          "name": "stdout",
          "text": [
            "1\n",
            "5\n"
          ]
        }
      ]
    },
    {
      "cell_type": "code",
      "source": [
        "print(t2[1:3])"
      ],
      "metadata": {
        "colab": {
          "base_uri": "https://localhost:8080/"
        },
        "id": "aQBE9p0lUnwP",
        "outputId": "8fcd07ae-7f18-41b0-b0df-bc6157161af7"
      },
      "execution_count": 105,
      "outputs": [
        {
          "output_type": "stream",
          "name": "stdout",
          "text": [
            "('2', '3')\n"
          ]
        }
      ]
    }
  ]
}